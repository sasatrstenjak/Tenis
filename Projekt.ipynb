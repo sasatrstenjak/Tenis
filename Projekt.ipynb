{
 "cells": [
  {
   "cell_type": "code",
   "execution_count": 29,
   "metadata": {
    "collapsed": false
   },
   "outputs": [],
   "source": [
    "import pandas as pd\n",
    "import matplotlib.pyplot as plt\n",
    "%matplotlib inline\n",
    "\n",
    "import numpy as np\n",
    "\n",
    "pd.options.display.max_rows = 15\n",
    "pd.options.display.max_columns = 16\n",
    "\n",
    "#lepši grafi:\n",
    "import matplotlib\n",
    "matplotlib.style.use('ggplot')\n",
    "\n",
    "lestvica = pd.read_csv('igralci.csv', index_col='id')\n"
   ]
  },
  {
   "cell_type": "markdown",
   "metadata": {},
   "source": [
    "# Analiza podatkov: Tenis ATP lestvica"
   ]
  },
  {
   "cell_type": "markdown",
   "metadata": {},
   "source": [
    "Za začetek si oglejmo prvih nekaj zapisov v tabeli teniških igralcev uvrščenih na ATP lestvico."
   ]
  },
  {
   "cell_type": "code",
   "execution_count": 3,
   "metadata": {
    "collapsed": false
   },
   "outputs": [
    {
     "data": {
      "text/html": [
       "<div>\n",
       "<table border=\"1\" class=\"dataframe\">\n",
       "  <thead>\n",
       "    <tr style=\"text-align: right;\">\n",
       "      <th></th>\n",
       "      <th>Ranking</th>\n",
       "      <th>Drzava</th>\n",
       "      <th>Ime</th>\n",
       "      <th>Starost</th>\n",
       "      <th>Turnirji</th>\n",
       "    </tr>\n",
       "    <tr>\n",
       "      <th>id</th>\n",
       "      <th></th>\n",
       "      <th></th>\n",
       "      <th></th>\n",
       "      <th></th>\n",
       "      <th></th>\n",
       "    </tr>\n",
       "  </thead>\n",
       "  <tbody>\n",
       "    <tr>\n",
       "      <th>1</th>\n",
       "      <td>1</td>\n",
       "      <td>GBR</td>\n",
       "      <td>Andy Murray</td>\n",
       "      <td>29</td>\n",
       "      <td>16</td>\n",
       "    </tr>\n",
       "    <tr>\n",
       "      <th>2</th>\n",
       "      <td>2</td>\n",
       "      <td>SRB</td>\n",
       "      <td>Novak Djokovic</td>\n",
       "      <td>29</td>\n",
       "      <td>17</td>\n",
       "    </tr>\n",
       "    <tr>\n",
       "      <th>3</th>\n",
       "      <td>3</td>\n",
       "      <td>CAN</td>\n",
       "      <td>Milos Raonic</td>\n",
       "      <td>26</td>\n",
       "      <td>19</td>\n",
       "    </tr>\n",
       "    <tr>\n",
       "      <th>4</th>\n",
       "      <td>4</td>\n",
       "      <td>SUI</td>\n",
       "      <td>Stan Wawrinka</td>\n",
       "      <td>31</td>\n",
       "      <td>21</td>\n",
       "    </tr>\n",
       "    <tr>\n",
       "      <th>5</th>\n",
       "      <td>5</td>\n",
       "      <td>JPN</td>\n",
       "      <td>Kei Nishikori</td>\n",
       "      <td>27</td>\n",
       "      <td>20</td>\n",
       "    </tr>\n",
       "    <tr>\n",
       "      <th>6</th>\n",
       "      <td>6</td>\n",
       "      <td>CRO</td>\n",
       "      <td>Marin Cilic</td>\n",
       "      <td>28</td>\n",
       "      <td>22</td>\n",
       "    </tr>\n",
       "    <tr>\n",
       "      <th>7</th>\n",
       "      <td>7</td>\n",
       "      <td>FRA</td>\n",
       "      <td>Gael Monfils</td>\n",
       "      <td>30</td>\n",
       "      <td>18</td>\n",
       "    </tr>\n",
       "    <tr>\n",
       "      <th>8</th>\n",
       "      <td>8</td>\n",
       "      <td>AUT</td>\n",
       "      <td>Dominic Thiem</td>\n",
       "      <td>23</td>\n",
       "      <td>28</td>\n",
       "    </tr>\n",
       "    <tr>\n",
       "      <th>9</th>\n",
       "      <td>9</td>\n",
       "      <td>ESP</td>\n",
       "      <td>Rafael Nadal</td>\n",
       "      <td>30</td>\n",
       "      <td>16</td>\n",
       "    </tr>\n",
       "    <tr>\n",
       "      <th>10</th>\n",
       "      <td>10</td>\n",
       "      <td>CZE</td>\n",
       "      <td>Tomas Berdych</td>\n",
       "      <td>31</td>\n",
       "      <td>21</td>\n",
       "    </tr>\n",
       "  </tbody>\n",
       "</table>\n",
       "</div>"
      ],
      "text/plain": [
       "    Ranking Drzava             Ime  Starost  Turnirji\n",
       "id                                                   \n",
       "1         1    GBR     Andy Murray       29        16\n",
       "2         2    SRB  Novak Djokovic       29        17\n",
       "3         3    CAN    Milos Raonic       26        19\n",
       "4         4    SUI   Stan Wawrinka       31        21\n",
       "5         5    JPN   Kei Nishikori       27        20\n",
       "6         6    CRO     Marin Cilic       28        22\n",
       "7         7    FRA    Gael Monfils       30        18\n",
       "8         8    AUT   Dominic Thiem       23        28\n",
       "9         9    ESP    Rafael Nadal       30        16\n",
       "10       10    CZE   Tomas Berdych       31        21"
      ]
     },
     "execution_count": 3,
     "metadata": {},
     "output_type": "execute_result"
    }
   ],
   "source": [
    "lestvica.head(10)"
   ]
  },
  {
   "cell_type": "markdown",
   "metadata": {},
   "source": [
    "*Obrazložitev podatkov v stolpcih:*\n",
    "* stolpec \"Ranking\" nam pove na katerem mestu na ATP lestvici se igralec nahaja\n",
    "* stolpec \"Turnirji\" nam pove koliko turnirjev, ki prispevajo k skupnemu seštevku ATP točk, se je igralec udeležil v letošnji sezoni.\n"
   ]
  },
  {
   "cell_type": "markdown",
   "metadata": {},
   "source": [
    "## *Analiza podatkov glede na starost igralcev*"
   ]
  },
  {
   "cell_type": "markdown",
   "metadata": {},
   "source": [
    "Za začetek poglejmo kolikšna je povprečna starost tenisačev:"
   ]
  },
  {
   "cell_type": "code",
   "execution_count": 65,
   "metadata": {
    "collapsed": false
   },
   "outputs": [
    {
     "data": {
      "text/plain": [
       "24.599"
      ]
     },
     "execution_count": 65,
     "metadata": {},
     "output_type": "execute_result"
    }
   ],
   "source": [
    "lestvica[\"Starost\"].mean()"
   ]
  },
  {
   "cell_type": "markdown",
   "metadata": {},
   "source": [
    "Poglejmo koliko starejših od 35 in mlajših od 18 let je uvrščenih v boljšo polovico igralcev:"
   ]
  },
  {
   "cell_type": "code",
   "execution_count": 68,
   "metadata": {
    "collapsed": false,
    "scrolled": false
   },
   "outputs": [
    {
     "data": {
      "text/html": [
       "<div>\n",
       "<table border=\"1\" class=\"dataframe\">\n",
       "  <thead>\n",
       "    <tr style=\"text-align: right;\">\n",
       "      <th></th>\n",
       "      <th>Ranking</th>\n",
       "      <th>Drzava</th>\n",
       "      <th>Ime</th>\n",
       "      <th>Starost</th>\n",
       "      <th>Turnirji</th>\n",
       "      <th>uvrstitev : turnirji</th>\n",
       "    </tr>\n",
       "    <tr>\n",
       "      <th>id</th>\n",
       "      <th></th>\n",
       "      <th></th>\n",
       "      <th></th>\n",
       "      <th></th>\n",
       "      <th></th>\n",
       "      <th></th>\n",
       "    </tr>\n",
       "  </thead>\n",
       "  <tbody>\n",
       "    <tr>\n",
       "      <th>20</th>\n",
       "      <td>20</td>\n",
       "      <td>CRO</td>\n",
       "      <td>Ivo Karlovic</td>\n",
       "      <td>37</td>\n",
       "      <td>24</td>\n",
       "      <td>0.833333</td>\n",
       "    </tr>\n",
       "    <tr>\n",
       "      <th>54</th>\n",
       "      <td>54</td>\n",
       "      <td>FRA</td>\n",
       "      <td>Stephane Robert</td>\n",
       "      <td>36</td>\n",
       "      <td>27</td>\n",
       "      <td>2.000000</td>\n",
       "    </tr>\n",
       "    <tr>\n",
       "      <th>102</th>\n",
       "      <td>102</td>\n",
       "      <td>DOM</td>\n",
       "      <td>Victor Estrella Burgos</td>\n",
       "      <td>36</td>\n",
       "      <td>27</td>\n",
       "      <td>3.777778</td>\n",
       "    </tr>\n",
       "    <tr>\n",
       "      <th>107</th>\n",
       "      <td>107</td>\n",
       "      <td>CZE</td>\n",
       "      <td>Radek Stepanek</td>\n",
       "      <td>38</td>\n",
       "      <td>14</td>\n",
       "      <td>7.642857</td>\n",
       "    </tr>\n",
       "    <tr>\n",
       "      <th>148</th>\n",
       "      <td>148</td>\n",
       "      <td>ESP</td>\n",
       "      <td>Ruben Ramirez Hidalgo</td>\n",
       "      <td>38</td>\n",
       "      <td>26</td>\n",
       "      <td>5.692308</td>\n",
       "    </tr>\n",
       "    <tr>\n",
       "      <th>164</th>\n",
       "      <td>164</td>\n",
       "      <td>ESP</td>\n",
       "      <td>Albert Montanes</td>\n",
       "      <td>36</td>\n",
       "      <td>20</td>\n",
       "      <td>8.200000</td>\n",
       "    </tr>\n",
       "    <tr>\n",
       "      <th>182</th>\n",
       "      <td>182</td>\n",
       "      <td>GER</td>\n",
       "      <td>Michael Berrer</td>\n",
       "      <td>36</td>\n",
       "      <td>25</td>\n",
       "      <td>7.280000</td>\n",
       "    </tr>\n",
       "    <tr>\n",
       "      <th>425</th>\n",
       "      <td>425</td>\n",
       "      <td>CZE</td>\n",
       "      <td>Jan Hernych</td>\n",
       "      <td>37</td>\n",
       "      <td>11</td>\n",
       "      <td>38.636364</td>\n",
       "    </tr>\n",
       "  </tbody>\n",
       "</table>\n",
       "</div>"
      ],
      "text/plain": [
       "     Ranking Drzava                     Ime  Starost  Turnirji  \\\n",
       "id                                                               \n",
       "20        20    CRO            Ivo Karlovic       37        24   \n",
       "54        54    FRA         Stephane Robert       36        27   \n",
       "102      102    DOM  Victor Estrella Burgos       36        27   \n",
       "107      107    CZE          Radek Stepanek       38        14   \n",
       "148      148    ESP   Ruben Ramirez Hidalgo       38        26   \n",
       "164      164    ESP         Albert Montanes       36        20   \n",
       "182      182    GER          Michael Berrer       36        25   \n",
       "425      425    CZE             Jan Hernych       37        11   \n",
       "\n",
       "     uvrstitev : turnirji  \n",
       "id                         \n",
       "20               0.833333  \n",
       "54               2.000000  \n",
       "102              3.777778  \n",
       "107              7.642857  \n",
       "148              5.692308  \n",
       "164              8.200000  \n",
       "182              7.280000  \n",
       "425             38.636364  "
      ]
     },
     "execution_count": 68,
     "metadata": {},
     "output_type": "execute_result"
    }
   ],
   "source": [
    "lestvica[(lestvica.Starost > 35)& (lestvica.Ranking <= 500)]"
   ]
  },
  {
   "cell_type": "code",
   "execution_count": 5,
   "metadata": {
    "collapsed": false,
    "scrolled": false
   },
   "outputs": [
    {
     "data": {
      "text/html": [
       "<div>\n",
       "<table border=\"1\" class=\"dataframe\">\n",
       "  <thead>\n",
       "    <tr style=\"text-align: right;\">\n",
       "      <th></th>\n",
       "      <th>Ranking</th>\n",
       "      <th>Drzava</th>\n",
       "      <th>Ime</th>\n",
       "      <th>Starost</th>\n",
       "      <th>Turnirji</th>\n",
       "    </tr>\n",
       "    <tr>\n",
       "      <th>id</th>\n",
       "      <th></th>\n",
       "      <th></th>\n",
       "      <th></th>\n",
       "      <th></th>\n",
       "      <th></th>\n",
       "    </tr>\n",
       "  </thead>\n",
       "  <tbody>\n",
       "    <tr>\n",
       "      <th>250</th>\n",
       "      <td>250</td>\n",
       "      <td>CAN</td>\n",
       "      <td>Denis Shapovalov</td>\n",
       "      <td>17</td>\n",
       "      <td>17</td>\n",
       "    </tr>\n",
       "    <tr>\n",
       "      <th>351</th>\n",
       "      <td>351</td>\n",
       "      <td>AUS</td>\n",
       "      <td>Alex De Minaur</td>\n",
       "      <td>17</td>\n",
       "      <td>19</td>\n",
       "    </tr>\n",
       "  </tbody>\n",
       "</table>\n",
       "</div>"
      ],
      "text/plain": [
       "     Ranking Drzava               Ime  Starost  Turnirji\n",
       "id                                                      \n",
       "250      250    CAN  Denis Shapovalov       17        17\n",
       "351      351    AUS    Alex De Minaur       17        19"
      ]
     },
     "execution_count": 5,
     "metadata": {},
     "output_type": "execute_result"
    }
   ],
   "source": [
    "lestvica[(lestvica.Starost < 18) & (lestvica.Ranking <= 500)]"
   ]
  },
  {
   "cell_type": "markdown",
   "metadata": {},
   "source": [
    "Število igralcev določene starosti:"
   ]
  },
  {
   "cell_type": "code",
   "execution_count": 6,
   "metadata": {
    "collapsed": true
   },
   "outputs": [],
   "source": [
    "lestvica_starost = lestvica.groupby(\"Starost\")"
   ]
  },
  {
   "cell_type": "code",
   "execution_count": 7,
   "metadata": {
    "collapsed": false
   },
   "outputs": [
    {
     "data": {
      "text/plain": [
       "Starost\n",
       "16     3\n",
       "17     9\n",
       "18    34\n",
       "19    71\n",
       "20    83\n",
       "21    69\n",
       "22    80\n",
       "23    89\n",
       "24    91\n",
       "25    70\n",
       "26    97\n",
       "27    66\n",
       "28    52\n",
       "29    54\n",
       "30    30\n",
       "31    33\n",
       "32    17\n",
       "33    17\n",
       "34    13\n",
       "35    11\n",
       "36     6\n",
       "37     2\n",
       "38     2\n",
       "40     1\n",
       "dtype: int64"
      ]
     },
     "execution_count": 7,
     "metadata": {},
     "output_type": "execute_result"
    }
   ],
   "source": [
    "lestvica_starost.size()"
   ]
  },
  {
   "cell_type": "markdown",
   "metadata": {},
   "source": [
    "Za lažjo predstavo lahko podatke o starosti gralcev prikažemo tudi v obliki grafa:"
   ]
  },
  {
   "cell_type": "code",
   "execution_count": 28,
   "metadata": {
    "collapsed": false
   },
   "outputs": [
    {
     "data": {
      "text/plain": [
       "<matplotlib.axes._subplots.AxesSubplot at 0x11647fd68>"
      ]
     },
     "execution_count": 28,
     "metadata": {},
     "output_type": "execute_result"
    },
    {
     "data": {
      "image/png": "[encoded data removed]",
      "text/plain": [
       "<matplotlib.figure.Figure at 0x1164770f0>"
      ]
     },
     "metadata": {},
     "output_type": "display_data"
    }
   ],
   "source": [
    "starost_presteta = lestvica[\"Starost\"].value_counts()\n",
    "starost_presteta.plot(kind= 'bar')"
   ]
  },
  {
   "cell_type": "markdown",
   "metadata": {},
   "source": [
    "Poglejmo si povprečno uvrstitev na lestvici za določeno starost:"
   ]
  },
  {
   "cell_type": "code",
   "execution_count": 69,
   "metadata": {
    "collapsed": false,
    "scrolled": true
   },
   "outputs": [
    {
     "data": {
      "text/plain": [
       "Starost\n",
       "38    127.500000\n",
       "37    222.500000\n",
       "35    252.454545\n",
       "32    269.176471\n",
       "33    305.588235\n",
       "36    328.000000\n",
       "29    342.148148\n",
       "         ...    \n",
       "23    576.561798\n",
       "19    576.746479\n",
       "20    593.746988\n",
       "18    643.823529\n",
       "17    731.333333\n",
       "16    778.000000\n",
       "40    840.000000\n",
       "Name: Ranking, dtype: float64"
      ]
     },
     "execution_count": 69,
     "metadata": {},
     "output_type": "execute_result"
    }
   ],
   "source": [
    "lestvica_starost['Ranking'].mean().sort_values()"
   ]
  },
  {
   "cell_type": "markdown",
   "metadata": {
    "collapsed": true
   },
   "source": [
    "Primerjajmo ta rezultat s povprečno starostjo prvih in zadnjih 100 igralcev na lestvici:"
   ]
  },
  {
   "cell_type": "code",
   "execution_count": 12,
   "metadata": {
    "collapsed": false
   },
   "outputs": [
    {
     "data": {
      "text/plain": [
       "28.11"
      ]
     },
     "execution_count": 12,
     "metadata": {},
     "output_type": "execute_result"
    }
   ],
   "source": [
    "lestvica.head(100)[\"Starost\"].mean()"
   ]
  },
  {
   "cell_type": "code",
   "execution_count": 13,
   "metadata": {
    "collapsed": false
   },
   "outputs": [
    {
     "data": {
      "text/plain": [
       "23.2"
      ]
     },
     "execution_count": 13,
     "metadata": {},
     "output_type": "execute_result"
    }
   ],
   "source": [
    "lestvica.tail(100)[\"Starost\"].mean()"
   ]
  },
  {
   "cell_type": "markdown",
   "metadata": {},
   "source": [
    "Iz izračuna povprečne uvrstitve glede na starost bi sklepali, da je optimalna starost za doseganje dobrih rezultatov v tenisu okoli 35 let. Ta podatek očitno ne odraža realnega stanja - to nam pove že povprečje starosti prvih 100 igralcev na lestvici.\n",
    "\n",
    "Zato se analize lotimo nekoliko drugače.\n",
    "\n",
    "Najprej razdelimo igralce na lestvici v skupine po 50 - vsakemu igralcu bomo v tabeli dodali še indeks od 1 do 20, ki nam pove, v kateri petdeseterici na ATP lestvici se nahaja."
   ]
  },
  {
   "cell_type": "code",
   "execution_count": 21,
   "metadata": {
    "collapsed": false
   },
   "outputs": [
    {
     "data": {
      "text/html": [
       "<div>\n",
       "<table border=\"1\" class=\"dataframe\">\n",
       "  <thead>\n",
       "    <tr style=\"text-align: right;\">\n",
       "      <th></th>\n",
       "      <th>Ranking</th>\n",
       "      <th>Drzava</th>\n",
       "      <th>Ime</th>\n",
       "      <th>Starost</th>\n",
       "      <th>Turnirji</th>\n",
       "      <th>Petdeseterica</th>\n",
       "    </tr>\n",
       "    <tr>\n",
       "      <th>id</th>\n",
       "      <th></th>\n",
       "      <th></th>\n",
       "      <th></th>\n",
       "      <th></th>\n",
       "      <th></th>\n",
       "      <th></th>\n",
       "    </tr>\n",
       "  </thead>\n",
       "  <tbody>\n",
       "    <tr>\n",
       "      <th>1</th>\n",
       "      <td>1</td>\n",
       "      <td>GBR</td>\n",
       "      <td>Andy Murray</td>\n",
       "      <td>29</td>\n",
       "      <td>16</td>\n",
       "      <td>1</td>\n",
       "    </tr>\n",
       "    <tr>\n",
       "      <th>2</th>\n",
       "      <td>2</td>\n",
       "      <td>SRB</td>\n",
       "      <td>Novak Djokovic</td>\n",
       "      <td>29</td>\n",
       "      <td>17</td>\n",
       "      <td>1</td>\n",
       "    </tr>\n",
       "    <tr>\n",
       "      <th>3</th>\n",
       "      <td>3</td>\n",
       "      <td>CAN</td>\n",
       "      <td>Milos Raonic</td>\n",
       "      <td>26</td>\n",
       "      <td>19</td>\n",
       "      <td>1</td>\n",
       "    </tr>\n",
       "    <tr>\n",
       "      <th>4</th>\n",
       "      <td>4</td>\n",
       "      <td>SUI</td>\n",
       "      <td>Stan Wawrinka</td>\n",
       "      <td>31</td>\n",
       "      <td>21</td>\n",
       "      <td>1</td>\n",
       "    </tr>\n",
       "    <tr>\n",
       "      <th>5</th>\n",
       "      <td>5</td>\n",
       "      <td>JPN</td>\n",
       "      <td>Kei Nishikori</td>\n",
       "      <td>27</td>\n",
       "      <td>20</td>\n",
       "      <td>1</td>\n",
       "    </tr>\n",
       "    <tr>\n",
       "      <th>6</th>\n",
       "      <td>6</td>\n",
       "      <td>CRO</td>\n",
       "      <td>Marin Cilic</td>\n",
       "      <td>28</td>\n",
       "      <td>22</td>\n",
       "      <td>1</td>\n",
       "    </tr>\n",
       "    <tr>\n",
       "      <th>7</th>\n",
       "      <td>7</td>\n",
       "      <td>FRA</td>\n",
       "      <td>Gael Monfils</td>\n",
       "      <td>30</td>\n",
       "      <td>18</td>\n",
       "      <td>1</td>\n",
       "    </tr>\n",
       "    <tr>\n",
       "      <th>...</th>\n",
       "      <td>...</td>\n",
       "      <td>...</td>\n",
       "      <td>...</td>\n",
       "      <td>...</td>\n",
       "      <td>...</td>\n",
       "      <td>...</td>\n",
       "    </tr>\n",
       "    <tr>\n",
       "      <th>994</th>\n",
       "      <td>994</td>\n",
       "      <td>ESP</td>\n",
       "      <td>Ricardo Villacorta-Alonso</td>\n",
       "      <td>31</td>\n",
       "      <td>11</td>\n",
       "      <td>20</td>\n",
       "    </tr>\n",
       "    <tr>\n",
       "      <th>995</th>\n",
       "      <td>995</td>\n",
       "      <td>FRA</td>\n",
       "      <td>Ugo Humbert</td>\n",
       "      <td>18</td>\n",
       "      <td>11</td>\n",
       "      <td>20</td>\n",
       "    </tr>\n",
       "    <tr>\n",
       "      <th>996</th>\n",
       "      <td>996</td>\n",
       "      <td>USA</td>\n",
       "      <td>Mitchell Thomas Mcdaniels</td>\n",
       "      <td>24</td>\n",
       "      <td>12</td>\n",
       "      <td>20</td>\n",
       "    </tr>\n",
       "    <tr>\n",
       "      <th>997</th>\n",
       "      <td>997</td>\n",
       "      <td>ITA</td>\n",
       "      <td>Pietro Rondoni</td>\n",
       "      <td>23</td>\n",
       "      <td>12</td>\n",
       "      <td>20</td>\n",
       "    </tr>\n",
       "    <tr>\n",
       "      <th>998</th>\n",
       "      <td>998</td>\n",
       "      <td>BUL</td>\n",
       "      <td>Gabriel Donev</td>\n",
       "      <td>20</td>\n",
       "      <td>13</td>\n",
       "      <td>20</td>\n",
       "    </tr>\n",
       "    <tr>\n",
       "      <th>999</th>\n",
       "      <td>999</td>\n",
       "      <td>USA</td>\n",
       "      <td>Patrick Daciek</td>\n",
       "      <td>26</td>\n",
       "      <td>14</td>\n",
       "      <td>20</td>\n",
       "    </tr>\n",
       "    <tr>\n",
       "      <th>1000</th>\n",
       "      <td>1000</td>\n",
       "      <td>AUS</td>\n",
       "      <td>Darren K. Polkinghorne</td>\n",
       "      <td>23</td>\n",
       "      <td>14</td>\n",
       "      <td>20</td>\n",
       "    </tr>\n",
       "  </tbody>\n",
       "</table>\n",
       "<p>1000 rows × 6 columns</p>\n",
       "</div>"
      ],
      "text/plain": [
       "      Ranking Drzava                        Ime  Starost  Turnirji  \\\n",
       "id                                                                   \n",
       "1           1    GBR                Andy Murray       29        16   \n",
       "2           2    SRB             Novak Djokovic       29        17   \n",
       "3           3    CAN               Milos Raonic       26        19   \n",
       "4           4    SUI              Stan Wawrinka       31        21   \n",
       "5           5    JPN              Kei Nishikori       27        20   \n",
       "6           6    CRO                Marin Cilic       28        22   \n",
       "7           7    FRA               Gael Monfils       30        18   \n",
       "...       ...    ...                        ...      ...       ...   \n",
       "994       994    ESP  Ricardo Villacorta-Alonso       31        11   \n",
       "995       995    FRA                Ugo Humbert       18        11   \n",
       "996       996    USA  Mitchell Thomas Mcdaniels       24        12   \n",
       "997       997    ITA             Pietro Rondoni       23        12   \n",
       "998       998    BUL              Gabriel Donev       20        13   \n",
       "999       999    USA             Patrick Daciek       26        14   \n",
       "1000     1000    AUS     Darren K. Polkinghorne       23        14   \n",
       "\n",
       "      Petdeseterica  \n",
       "id                   \n",
       "1                 1  \n",
       "2                 1  \n",
       "3                 1  \n",
       "4                 1  \n",
       "5                 1  \n",
       "6                 1  \n",
       "7                 1  \n",
       "...             ...  \n",
       "994              20  \n",
       "995              20  \n",
       "996              20  \n",
       "997              20  \n",
       "998              20  \n",
       "999              20  \n",
       "1000             20  \n",
       "\n",
       "[1000 rows x 6 columns]"
      ]
     },
     "execution_count": 21,
     "metadata": {},
     "output_type": "execute_result"
    }
   ],
   "source": [
    "lestvica[\"Petdeseterica\"] = ((lestvica.Ranking-1) // 50) +1\n",
    "lestvica"
   ]
  },
  {
   "cell_type": "markdown",
   "metadata": {},
   "source": [
    "Sedaj pa si oglejmo povprečne starosti za posamezne petdeseterice:"
   ]
  },
  {
   "cell_type": "code",
   "execution_count": 15,
   "metadata": {
    "collapsed": false
   },
   "outputs": [
    {
     "data": {
      "text/plain": [
       "Petdeseterica\n",
       "1     28.62\n",
       "2     27.60\n",
       "3     27.56\n",
       "4     25.48\n",
       "5     24.54\n",
       "6     25.46\n",
       "7     23.96\n",
       "8     25.14\n",
       "9     25.34\n",
       "10    23.30\n",
       "11    23.52\n",
       "12    24.12\n",
       "13    22.90\n",
       "14    24.40\n",
       "15    24.24\n",
       "16    22.58\n",
       "17    23.04\n",
       "18    23.78\n",
       "19    23.72\n",
       "20    22.68\n",
       "Name: Starost, dtype: float64"
      ]
     },
     "execution_count": 15,
     "metadata": {},
     "output_type": "execute_result"
    }
   ],
   "source": [
    "petdeseterice = lestvica.groupby(\"Petdeseterica\")\n",
    "petdeseterice[\"Starost\"].mean()"
   ]
  },
  {
   "cell_type": "code",
   "execution_count": 16,
   "metadata": {
    "collapsed": false
   },
   "outputs": [
    {
     "data": {
      "text/plain": [
       "<matplotlib.axes._subplots.AxesSubplot at 0x115a3d4e0>"
      ]
     },
     "execution_count": 16,
     "metadata": {},
     "output_type": "execute_result"
    },
    {
     "data": {
      "image/png": "[encoded data removed]",
      "text/plain": [
       "<matplotlib.figure.Figure at 0x115a0a0b8>"
      ]
     },
     "metadata": {},
     "output_type": "display_data"
    }
   ],
   "source": [
    "petdeseterice[\"Starost\"].mean().plot()"
   ]
  },
  {
   "cell_type": "markdown",
   "metadata": {},
   "source": [
    "Zgornji graf lepo prikaže, da se starost s premikom navzdol po lestvici v splošnem manjša."
   ]
  },
  {
   "cell_type": "markdown",
   "metadata": {},
   "source": [
    "## *Analiza podatkov glede na narodnost igralcev*"
   ]
  },
  {
   "cell_type": "markdown",
   "metadata": {},
   "source": [
    "Za začetek preštejmo koliko držav se pojavi v tabeli in koliko igralcev prihaja iz posameznih držav:"
   ]
  },
  {
   "cell_type": "code",
   "execution_count": 17,
   "metadata": {
    "collapsed": false
   },
   "outputs": [
    {
     "data": {
      "text/plain": [
       "76"
      ]
     },
     "execution_count": 17,
     "metadata": {},
     "output_type": "execute_result"
    }
   ],
   "source": [
    "len(lestvica.groupby(\"Drzava\"))"
   ]
  },
  {
   "cell_type": "code",
   "execution_count": 22,
   "metadata": {
    "collapsed": false
   },
   "outputs": [
    {
     "data": {
      "text/plain": [
       "FRA    77\n",
       "USA    74\n",
       "ITA    68\n",
       "GER    60\n",
       "ESP    56\n",
       "ARG    41\n",
       "RUS    41\n",
       "       ..\n",
       "MNE     1\n",
       "BAR     1\n",
       "FIN     1\n",
       "VIE     1\n",
       "MDA     1\n",
       "THA     1\n",
       "HKG     1\n",
       "Name: Drzava, dtype: int64"
      ]
     },
     "execution_count": 22,
     "metadata": {},
     "output_type": "execute_result"
    }
   ],
   "source": [
    "lestvica[\"Drzava\"].value_counts(ascending = False)"
   ]
  },
  {
   "cell_type": "markdown",
   "metadata": {},
   "source": [
    "Zanimivo bi bilo vedeti, katera država je najbolj uspešna - poglejmo zastopanost med prvih 100 uvrščenih:"
   ]
  },
  {
   "cell_type": "code",
   "execution_count": 72,
   "metadata": {
    "collapsed": false
   },
   "outputs": [
    {
     "data": {
      "text/plain": [
       "<matplotlib.axes._subplots.AxesSubplot at 0x11b156ba8>"
      ]
     },
     "execution_count": 72,
     "metadata": {},
     "output_type": "execute_result"
    },
    {
     "data": {
      "image/png": "[encoded data removed]",
      "text/plain": [
       "<matplotlib.figure.Figure at 0x11b0ceeb8>"
      ]
     },
     "metadata": {},
     "output_type": "display_data"
    }
   ],
   "source": [
    "lestvica.head(100)[\"Drzava\"].value_counts().plot(kind = \"barh\", figsize = (15,10))"
   ]
  },
  {
   "cell_type": "markdown",
   "metadata": {},
   "source": [
    "Uspešnost države lahko ocenimo tudi z izračunom povprečne uvrstitve njenih tenisačev:"
   ]
  },
  {
   "cell_type": "code",
   "execution_count": 74,
   "metadata": {
    "collapsed": false,
    "scrolled": true
   },
   "outputs": [
    {
     "data": {
      "text/html": [
       "<div>\n",
       "<table border=\"1\" class=\"dataframe\">\n",
       "  <thead>\n",
       "    <tr style=\"text-align: right;\">\n",
       "      <th></th>\n",
       "      <th>Ranking</th>\n",
       "      <th>Starost</th>\n",
       "      <th>Turnirji</th>\n",
       "      <th>uvrstitev : turnirji</th>\n",
       "    </tr>\n",
       "    <tr>\n",
       "      <th>Drzava</th>\n",
       "      <th></th>\n",
       "      <th></th>\n",
       "      <th></th>\n",
       "      <th></th>\n",
       "    </tr>\n",
       "  </thead>\n",
       "  <tbody>\n",
       "    <tr>\n",
       "      <th>ARG</th>\n",
       "      <td>393.365854</td>\n",
       "      <td>24.439024</td>\n",
       "      <td>21.560976</td>\n",
       "      <td>27.156396</td>\n",
       "    </tr>\n",
       "    <tr>\n",
       "      <th>AUS</th>\n",
       "      <td>455.486486</td>\n",
       "      <td>23.243243</td>\n",
       "      <td>18.081081</td>\n",
       "      <td>53.101516</td>\n",
       "    </tr>\n",
       "    <tr>\n",
       "      <th>AUT</th>\n",
       "      <td>514.555556</td>\n",
       "      <td>23.833333</td>\n",
       "      <td>22.722222</td>\n",
       "      <td>27.634527</td>\n",
       "    </tr>\n",
       "    <tr>\n",
       "      <th>BAR</th>\n",
       "      <td>152.000000</td>\n",
       "      <td>24.000000</td>\n",
       "      <td>21.000000</td>\n",
       "      <td>7.238095</td>\n",
       "    </tr>\n",
       "    <tr>\n",
       "      <th>BEL</th>\n",
       "      <td>436.560000</td>\n",
       "      <td>24.560000</td>\n",
       "      <td>20.960000</td>\n",
       "      <td>26.699605</td>\n",
       "    </tr>\n",
       "    <tr>\n",
       "      <th>BIH</th>\n",
       "      <td>310.400000</td>\n",
       "      <td>25.200000</td>\n",
       "      <td>23.200000</td>\n",
       "      <td>13.854988</td>\n",
       "    </tr>\n",
       "    <tr>\n",
       "      <th>BLR</th>\n",
       "      <td>444.111111</td>\n",
       "      <td>24.333333</td>\n",
       "      <td>14.666667</td>\n",
       "      <td>41.532605</td>\n",
       "    </tr>\n",
       "    <tr>\n",
       "      <th>...</th>\n",
       "      <td>...</td>\n",
       "      <td>...</td>\n",
       "      <td>...</td>\n",
       "      <td>...</td>\n",
       "    </tr>\n",
       "    <tr>\n",
       "      <th>UKR</th>\n",
       "      <td>605.722222</td>\n",
       "      <td>25.055556</td>\n",
       "      <td>21.111111</td>\n",
       "      <td>31.885303</td>\n",
       "    </tr>\n",
       "    <tr>\n",
       "      <th>URU</th>\n",
       "      <td>518.333333</td>\n",
       "      <td>25.666667</td>\n",
       "      <td>18.333333</td>\n",
       "      <td>34.703222</td>\n",
       "    </tr>\n",
       "    <tr>\n",
       "      <th>USA</th>\n",
       "      <td>488.783784</td>\n",
       "      <td>23.905405</td>\n",
       "      <td>18.635135</td>\n",
       "      <td>59.927004</td>\n",
       "    </tr>\n",
       "    <tr>\n",
       "      <th>UZB</th>\n",
       "      <td>551.857143</td>\n",
       "      <td>22.714286</td>\n",
       "      <td>15.285714</td>\n",
       "      <td>69.167956</td>\n",
       "    </tr>\n",
       "    <tr>\n",
       "      <th>VEN</th>\n",
       "      <td>779.000000</td>\n",
       "      <td>23.000000</td>\n",
       "      <td>18.000000</td>\n",
       "      <td>43.277778</td>\n",
       "    </tr>\n",
       "    <tr>\n",
       "      <th>VIE</th>\n",
       "      <td>648.000000</td>\n",
       "      <td>19.000000</td>\n",
       "      <td>18.000000</td>\n",
       "      <td>36.000000</td>\n",
       "    </tr>\n",
       "    <tr>\n",
       "      <th>ZIM</th>\n",
       "      <td>506.000000</td>\n",
       "      <td>24.500000</td>\n",
       "      <td>24.500000</td>\n",
       "      <td>21.428448</td>\n",
       "    </tr>\n",
       "  </tbody>\n",
       "</table>\n",
       "<p>76 rows × 4 columns</p>\n",
       "</div>"
      ],
      "text/plain": [
       "           Ranking    Starost   Turnirji  uvrstitev : turnirji\n",
       "Drzava                                                        \n",
       "ARG     393.365854  24.439024  21.560976             27.156396\n",
       "AUS     455.486486  23.243243  18.081081             53.101516\n",
       "AUT     514.555556  23.833333  22.722222             27.634527\n",
       "BAR     152.000000  24.000000  21.000000              7.238095\n",
       "BEL     436.560000  24.560000  20.960000             26.699605\n",
       "BIH     310.400000  25.200000  23.200000             13.854988\n",
       "BLR     444.111111  24.333333  14.666667             41.532605\n",
       "...            ...        ...        ...                   ...\n",
       "UKR     605.722222  25.055556  21.111111             31.885303\n",
       "URU     518.333333  25.666667  18.333333             34.703222\n",
       "USA     488.783784  23.905405  18.635135             59.927004\n",
       "UZB     551.857143  22.714286  15.285714             69.167956\n",
       "VEN     779.000000  23.000000  18.000000             43.277778\n",
       "VIE     648.000000  19.000000  18.000000             36.000000\n",
       "ZIM     506.000000  24.500000  24.500000             21.428448\n",
       "\n",
       "[76 rows x 4 columns]"
      ]
     },
     "execution_count": 74,
     "metadata": {},
     "output_type": "execute_result"
    }
   ],
   "source": [
    "#Povprečna uvrstitev države:\n",
    "lestvica_po_drzavah = lestvica.groupby(\"Drzava\")\n",
    "lestvica_po_drzavah.mean()\n"
   ]
  },
  {
   "cell_type": "markdown",
   "metadata": {},
   "source": [
    "Še boljšo oceno bomo dobili, če bomo primerjali razmerje med povprečno uvrstitvijo in številom igralcev vsake države:"
   ]
  },
  {
   "cell_type": "code",
   "execution_count": 33,
   "metadata": {
    "collapsed": false
   },
   "outputs": [
    {
     "data": {
      "text/html": [
       "<div>\n",
       "<table border=\"1\" class=\"dataframe\">\n",
       "  <thead>\n",
       "    <tr style=\"text-align: right;\">\n",
       "      <th></th>\n",
       "      <th>Število igralcev</th>\n",
       "      <th>Povprečna uvrstitev</th>\n",
       "    </tr>\n",
       "    <tr>\n",
       "      <th>Drzava</th>\n",
       "      <th></th>\n",
       "      <th></th>\n",
       "    </tr>\n",
       "  </thead>\n",
       "  <tbody>\n",
       "    <tr>\n",
       "      <th>ARG</th>\n",
       "      <td>41</td>\n",
       "      <td>393.365854</td>\n",
       "    </tr>\n",
       "    <tr>\n",
       "      <th>AUS</th>\n",
       "      <td>37</td>\n",
       "      <td>455.486486</td>\n",
       "    </tr>\n",
       "    <tr>\n",
       "      <th>AUT</th>\n",
       "      <td>18</td>\n",
       "      <td>514.555556</td>\n",
       "    </tr>\n",
       "    <tr>\n",
       "      <th>BAR</th>\n",
       "      <td>1</td>\n",
       "      <td>152.000000</td>\n",
       "    </tr>\n",
       "    <tr>\n",
       "      <th>BEL</th>\n",
       "      <td>25</td>\n",
       "      <td>436.560000</td>\n",
       "    </tr>\n",
       "    <tr>\n",
       "      <th>BIH</th>\n",
       "      <td>5</td>\n",
       "      <td>310.400000</td>\n",
       "    </tr>\n",
       "    <tr>\n",
       "      <th>BLR</th>\n",
       "      <td>9</td>\n",
       "      <td>444.111111</td>\n",
       "    </tr>\n",
       "    <tr>\n",
       "      <th>...</th>\n",
       "      <td>...</td>\n",
       "      <td>...</td>\n",
       "    </tr>\n",
       "    <tr>\n",
       "      <th>UKR</th>\n",
       "      <td>18</td>\n",
       "      <td>605.722222</td>\n",
       "    </tr>\n",
       "    <tr>\n",
       "      <th>URU</th>\n",
       "      <td>3</td>\n",
       "      <td>518.333333</td>\n",
       "    </tr>\n",
       "    <tr>\n",
       "      <th>USA</th>\n",
       "      <td>74</td>\n",
       "      <td>488.783784</td>\n",
       "    </tr>\n",
       "    <tr>\n",
       "      <th>UZB</th>\n",
       "      <td>7</td>\n",
       "      <td>551.857143</td>\n",
       "    </tr>\n",
       "    <tr>\n",
       "      <th>VEN</th>\n",
       "      <td>1</td>\n",
       "      <td>779.000000</td>\n",
       "    </tr>\n",
       "    <tr>\n",
       "      <th>VIE</th>\n",
       "      <td>1</td>\n",
       "      <td>648.000000</td>\n",
       "    </tr>\n",
       "    <tr>\n",
       "      <th>ZIM</th>\n",
       "      <td>2</td>\n",
       "      <td>506.000000</td>\n",
       "    </tr>\n",
       "  </tbody>\n",
       "</table>\n",
       "<p>76 rows × 2 columns</p>\n",
       "</div>"
      ],
      "text/plain": [
       "        Število igralcev  Povprečna uvrstitev\n",
       "Drzava                                       \n",
       "ARG                   41           393.365854\n",
       "AUS                   37           455.486486\n",
       "AUT                   18           514.555556\n",
       "BAR                    1           152.000000\n",
       "BEL                   25           436.560000\n",
       "BIH                    5           310.400000\n",
       "BLR                    9           444.111111\n",
       "...                  ...                  ...\n",
       "UKR                   18           605.722222\n",
       "URU                    3           518.333333\n",
       "USA                   74           488.783784\n",
       "UZB                    7           551.857143\n",
       "VEN                    1           779.000000\n",
       "VIE                    1           648.000000\n",
       "ZIM                    2           506.000000\n",
       "\n",
       "[76 rows x 2 columns]"
      ]
     },
     "execution_count": 33,
     "metadata": {},
     "output_type": "execute_result"
    }
   ],
   "source": [
    "stevilo = lestvica_po_drzavah.count()\n",
    "drzave = lestvica_po_drzavah.mean()\n",
    "\n",
    "tabela_drzav = pd.concat([stevilo[\"Ime\"], drzave[\"Ranking\"]], axis=1, keys = [\"Število igralcev\", \"Povprečna uvrstitev\"])\n",
    "tabela_drzav"
   ]
  },
  {
   "cell_type": "code",
   "execution_count": 34,
   "metadata": {
    "collapsed": false
   },
   "outputs": [
    {
     "data": {
      "text/plain": [
       "array([<matplotlib.axes._subplots.AxesSubplot object at 0x112a246d8>,\n",
       "       <matplotlib.axes._subplots.AxesSubplot object at 0x1176ad4a8>], dtype=object)"
      ]
     },
     "execution_count": 34,
     "metadata": {},
     "output_type": "execute_result"
    },
    {
     "data": {
      "image/png": "[encoded data removed]",
      "text/plain": [
       "<matplotlib.figure.Figure at 0x117613748>"
      ]
     },
     "metadata": {},
     "output_type": "display_data"
    }
   ],
   "source": [
    "tabela_drzav.plot(kind=\"bar\", subplots = True, figsize = (20,15))"
   ]
  },
  {
   "cell_type": "markdown",
   "metadata": {},
   "source": [
    "Za lažjo primerjavo združimo grafa:"
   ]
  },
  {
   "cell_type": "code",
   "execution_count": 35,
   "metadata": {
    "collapsed": false
   },
   "outputs": [
    {
     "data": {
      "text/plain": [
       "<matplotlib.axes._subplots.AxesSubplot at 0x117d659b0>"
      ]
     },
     "execution_count": 35,
     "metadata": {},
     "output_type": "execute_result"
    },
    {
     "data": {
      "image/png": "[encoded data removed]",
      "text/plain": [
       "<matplotlib.figure.Figure at 0x117d006d8>"
      ]
     },
     "metadata": {},
     "output_type": "display_data"
    }
   ],
   "source": [
    "tabela_drzav.plot(kind=\"bar\", figsize = (20,15))"
   ]
  },
  {
   "cell_type": "markdown",
   "metadata": {},
   "source": [
    "Z zgornjega grafa lahko relativno enostavno razberemo, katera država ima najboljše razmerje med številom uvrščenih igralcev in povprečno uvrstitvijo - to bo tista država, katere velikosti modrega in vijoličnega stolpca na grafu se razlikujeta za največ."
   ]
  },
  {
   "cell_type": "markdown",
   "metadata": {},
   "source": [
    "## *Analiza podatkov glede na število odigranih turnirjev*"
   ]
  },
  {
   "cell_type": "markdown",
   "metadata": {},
   "source": [
    "Poglejmo še, kateri izmed igralcev je najbolj \"učinkovit\", t.j. kateri izmed igralcev ima najboljše razmerje med odigranimi turnirji in uvrstitvijo na lestvici."
   ]
  },
  {
   "cell_type": "code",
   "execution_count": 76,
   "metadata": {
    "collapsed": false
   },
   "outputs": [
    {
     "data": {
      "text/html": [
       "<div>\n",
       "<table border=\"1\" class=\"dataframe\">\n",
       "  <thead>\n",
       "    <tr style=\"text-align: right;\">\n",
       "      <th></th>\n",
       "      <th>Ranking</th>\n",
       "      <th>Drzava</th>\n",
       "      <th>Ime</th>\n",
       "      <th>Starost</th>\n",
       "      <th>Turnirji</th>\n",
       "      <th>uvrstitev : turnirji</th>\n",
       "    </tr>\n",
       "    <tr>\n",
       "      <th>id</th>\n",
       "      <th></th>\n",
       "      <th></th>\n",
       "      <th></th>\n",
       "      <th></th>\n",
       "      <th></th>\n",
       "      <th></th>\n",
       "    </tr>\n",
       "  </thead>\n",
       "  <tbody>\n",
       "    <tr>\n",
       "      <th>1</th>\n",
       "      <td>1</td>\n",
       "      <td>GBR</td>\n",
       "      <td>Andy Murray</td>\n",
       "      <td>29</td>\n",
       "      <td>16</td>\n",
       "      <td>0.062500</td>\n",
       "    </tr>\n",
       "    <tr>\n",
       "      <th>2</th>\n",
       "      <td>2</td>\n",
       "      <td>SRB</td>\n",
       "      <td>Novak Djokovic</td>\n",
       "      <td>29</td>\n",
       "      <td>17</td>\n",
       "      <td>0.029412</td>\n",
       "    </tr>\n",
       "    <tr>\n",
       "      <th>3</th>\n",
       "      <td>3</td>\n",
       "      <td>CAN</td>\n",
       "      <td>Milos Raonic</td>\n",
       "      <td>26</td>\n",
       "      <td>19</td>\n",
       "      <td>0.017544</td>\n",
       "    </tr>\n",
       "    <tr>\n",
       "      <th>4</th>\n",
       "      <td>4</td>\n",
       "      <td>SUI</td>\n",
       "      <td>Stan Wawrinka</td>\n",
       "      <td>31</td>\n",
       "      <td>21</td>\n",
       "      <td>0.011905</td>\n",
       "    </tr>\n",
       "    <tr>\n",
       "      <th>5</th>\n",
       "      <td>5</td>\n",
       "      <td>JPN</td>\n",
       "      <td>Kei Nishikori</td>\n",
       "      <td>27</td>\n",
       "      <td>20</td>\n",
       "      <td>0.010000</td>\n",
       "    </tr>\n",
       "    <tr>\n",
       "      <th>6</th>\n",
       "      <td>6</td>\n",
       "      <td>CRO</td>\n",
       "      <td>Marin Cilic</td>\n",
       "      <td>28</td>\n",
       "      <td>22</td>\n",
       "      <td>0.007576</td>\n",
       "    </tr>\n",
       "    <tr>\n",
       "      <th>7</th>\n",
       "      <td>7</td>\n",
       "      <td>FRA</td>\n",
       "      <td>Gael Monfils</td>\n",
       "      <td>30</td>\n",
       "      <td>18</td>\n",
       "      <td>0.007937</td>\n",
       "    </tr>\n",
       "    <tr>\n",
       "      <th>...</th>\n",
       "      <td>...</td>\n",
       "      <td>...</td>\n",
       "      <td>...</td>\n",
       "      <td>...</td>\n",
       "      <td>...</td>\n",
       "      <td>...</td>\n",
       "    </tr>\n",
       "    <tr>\n",
       "      <th>994</th>\n",
       "      <td>994</td>\n",
       "      <td>ESP</td>\n",
       "      <td>Ricardo Villacorta-Alonso</td>\n",
       "      <td>31</td>\n",
       "      <td>11</td>\n",
       "      <td>0.000091</td>\n",
       "    </tr>\n",
       "    <tr>\n",
       "      <th>995</th>\n",
       "      <td>995</td>\n",
       "      <td>FRA</td>\n",
       "      <td>Ugo Humbert</td>\n",
       "      <td>18</td>\n",
       "      <td>11</td>\n",
       "      <td>0.000091</td>\n",
       "    </tr>\n",
       "    <tr>\n",
       "      <th>996</th>\n",
       "      <td>996</td>\n",
       "      <td>USA</td>\n",
       "      <td>Mitchell Thomas Mcdaniels</td>\n",
       "      <td>24</td>\n",
       "      <td>12</td>\n",
       "      <td>0.000084</td>\n",
       "    </tr>\n",
       "    <tr>\n",
       "      <th>997</th>\n",
       "      <td>997</td>\n",
       "      <td>ITA</td>\n",
       "      <td>Pietro Rondoni</td>\n",
       "      <td>23</td>\n",
       "      <td>12</td>\n",
       "      <td>0.000084</td>\n",
       "    </tr>\n",
       "    <tr>\n",
       "      <th>998</th>\n",
       "      <td>998</td>\n",
       "      <td>BUL</td>\n",
       "      <td>Gabriel Donev</td>\n",
       "      <td>20</td>\n",
       "      <td>13</td>\n",
       "      <td>0.000077</td>\n",
       "    </tr>\n",
       "    <tr>\n",
       "      <th>999</th>\n",
       "      <td>999</td>\n",
       "      <td>USA</td>\n",
       "      <td>Patrick Daciek</td>\n",
       "      <td>26</td>\n",
       "      <td>14</td>\n",
       "      <td>0.000072</td>\n",
       "    </tr>\n",
       "    <tr>\n",
       "      <th>1000</th>\n",
       "      <td>1000</td>\n",
       "      <td>AUS</td>\n",
       "      <td>Darren K. Polkinghorne</td>\n",
       "      <td>23</td>\n",
       "      <td>14</td>\n",
       "      <td>0.000071</td>\n",
       "    </tr>\n",
       "  </tbody>\n",
       "</table>\n",
       "<p>1000 rows × 6 columns</p>\n",
       "</div>"
      ],
      "text/plain": [
       "      Ranking Drzava                        Ime  Starost  Turnirji  \\\n",
       "id                                                                   \n",
       "1           1    GBR                Andy Murray       29        16   \n",
       "2           2    SRB             Novak Djokovic       29        17   \n",
       "3           3    CAN               Milos Raonic       26        19   \n",
       "4           4    SUI              Stan Wawrinka       31        21   \n",
       "5           5    JPN              Kei Nishikori       27        20   \n",
       "6           6    CRO                Marin Cilic       28        22   \n",
       "7           7    FRA               Gael Monfils       30        18   \n",
       "...       ...    ...                        ...      ...       ...   \n",
       "994       994    ESP  Ricardo Villacorta-Alonso       31        11   \n",
       "995       995    FRA                Ugo Humbert       18        11   \n",
       "996       996    USA  Mitchell Thomas Mcdaniels       24        12   \n",
       "997       997    ITA             Pietro Rondoni       23        12   \n",
       "998       998    BUL              Gabriel Donev       20        13   \n",
       "999       999    USA             Patrick Daciek       26        14   \n",
       "1000     1000    AUS     Darren K. Polkinghorne       23        14   \n",
       "\n",
       "      uvrstitev : turnirji  \n",
       "id                          \n",
       "1                 0.062500  \n",
       "2                 0.029412  \n",
       "3                 0.017544  \n",
       "4                 0.011905  \n",
       "5                 0.010000  \n",
       "6                 0.007576  \n",
       "7                 0.007937  \n",
       "...                    ...  \n",
       "994               0.000091  \n",
       "995               0.000091  \n",
       "996               0.000084  \n",
       "997               0.000084  \n",
       "998               0.000077  \n",
       "999               0.000072  \n",
       "1000              0.000071  \n",
       "\n",
       "[1000 rows x 6 columns]"
      ]
     },
     "execution_count": 76,
     "metadata": {},
     "output_type": "execute_result"
    }
   ],
   "source": [
    "lestvica[\"uvrstitev : turnirji\"] = 1/((lestvica.Ranking)*(lestvica.Turnirji))\n",
    "lestvica"
   ]
  },
  {
   "cell_type": "code",
   "execution_count": 77,
   "metadata": {
    "collapsed": false
   },
   "outputs": [
    {
     "data": {
      "text/plain": [
       "<matplotlib.axes._subplots.AxesSubplot at 0x11b4c1b38>"
      ]
     },
     "execution_count": 77,
     "metadata": {},
     "output_type": "execute_result"
    },
    {
     "data": {
      "image/png": "[encoded data removed]",
      "text/plain": [
       "<matplotlib.figure.Figure at 0x11b4b3c18>"
      ]
     },
     "metadata": {},
     "output_type": "display_data"
    }
   ],
   "source": [
    "lestvica1 = lestvica.set_index(\"Ime\")\n",
    "lestvica2 = lestvica1.drop(lestvica1.columns[[0,1,2,3]], axis = 1)\n",
    "lestvica2.head(10).plot(kind= \"barh\")"
   ]
  },
  {
   "cell_type": "code",
   "execution_count": 46,
   "metadata": {
    "collapsed": false
   },
   "outputs": [
    {
     "data": {
      "text/html": [
       "<div>\n",
       "<table border=\"1\" class=\"dataframe\">\n",
       "  <thead>\n",
       "    <tr style=\"text-align: right;\">\n",
       "      <th></th>\n",
       "      <th>Ranking</th>\n",
       "      <th>Drzava</th>\n",
       "      <th>Ime</th>\n",
       "      <th>Starost</th>\n",
       "      <th>Turnirji</th>\n",
       "      <th>uvrstitev : turnirji</th>\n",
       "    </tr>\n",
       "    <tr>\n",
       "      <th>id</th>\n",
       "      <th></th>\n",
       "      <th></th>\n",
       "      <th></th>\n",
       "      <th></th>\n",
       "      <th></th>\n",
       "      <th></th>\n",
       "    </tr>\n",
       "  </thead>\n",
       "  <tbody>\n",
       "    <tr>\n",
       "      <th>1</th>\n",
       "      <td>1</td>\n",
       "      <td>GBR</td>\n",
       "      <td>Andy Murray</td>\n",
       "      <td>29</td>\n",
       "      <td>16</td>\n",
       "      <td>0.062500</td>\n",
       "    </tr>\n",
       "    <tr>\n",
       "      <th>2</th>\n",
       "      <td>2</td>\n",
       "      <td>SRB</td>\n",
       "      <td>Novak Djokovic</td>\n",
       "      <td>29</td>\n",
       "      <td>17</td>\n",
       "      <td>0.117647</td>\n",
       "    </tr>\n",
       "    <tr>\n",
       "      <th>3</th>\n",
       "      <td>3</td>\n",
       "      <td>CAN</td>\n",
       "      <td>Milos Raonic</td>\n",
       "      <td>26</td>\n",
       "      <td>19</td>\n",
       "      <td>0.157895</td>\n",
       "    </tr>\n",
       "    <tr>\n",
       "      <th>4</th>\n",
       "      <td>4</td>\n",
       "      <td>SUI</td>\n",
       "      <td>Stan Wawrinka</td>\n",
       "      <td>31</td>\n",
       "      <td>21</td>\n",
       "      <td>0.190476</td>\n",
       "    </tr>\n",
       "    <tr>\n",
       "      <th>5</th>\n",
       "      <td>5</td>\n",
       "      <td>JPN</td>\n",
       "      <td>Kei Nishikori</td>\n",
       "      <td>27</td>\n",
       "      <td>20</td>\n",
       "      <td>0.250000</td>\n",
       "    </tr>\n",
       "    <tr>\n",
       "      <th>6</th>\n",
       "      <td>6</td>\n",
       "      <td>CRO</td>\n",
       "      <td>Marin Cilic</td>\n",
       "      <td>28</td>\n",
       "      <td>22</td>\n",
       "      <td>0.272727</td>\n",
       "    </tr>\n",
       "    <tr>\n",
       "      <th>7</th>\n",
       "      <td>7</td>\n",
       "      <td>FRA</td>\n",
       "      <td>Gael Monfils</td>\n",
       "      <td>30</td>\n",
       "      <td>18</td>\n",
       "      <td>0.388889</td>\n",
       "    </tr>\n",
       "    <tr>\n",
       "      <th>...</th>\n",
       "      <td>...</td>\n",
       "      <td>...</td>\n",
       "      <td>...</td>\n",
       "      <td>...</td>\n",
       "      <td>...</td>\n",
       "      <td>...</td>\n",
       "    </tr>\n",
       "    <tr>\n",
       "      <th>994</th>\n",
       "      <td>994</td>\n",
       "      <td>ESP</td>\n",
       "      <td>Ricardo Villacorta-Alonso</td>\n",
       "      <td>31</td>\n",
       "      <td>11</td>\n",
       "      <td>90.363636</td>\n",
       "    </tr>\n",
       "    <tr>\n",
       "      <th>995</th>\n",
       "      <td>995</td>\n",
       "      <td>FRA</td>\n",
       "      <td>Ugo Humbert</td>\n",
       "      <td>18</td>\n",
       "      <td>11</td>\n",
       "      <td>90.454545</td>\n",
       "    </tr>\n",
       "    <tr>\n",
       "      <th>996</th>\n",
       "      <td>996</td>\n",
       "      <td>USA</td>\n",
       "      <td>Mitchell Thomas Mcdaniels</td>\n",
       "      <td>24</td>\n",
       "      <td>12</td>\n",
       "      <td>83.000000</td>\n",
       "    </tr>\n",
       "    <tr>\n",
       "      <th>997</th>\n",
       "      <td>997</td>\n",
       "      <td>ITA</td>\n",
       "      <td>Pietro Rondoni</td>\n",
       "      <td>23</td>\n",
       "      <td>12</td>\n",
       "      <td>83.083333</td>\n",
       "    </tr>\n",
       "    <tr>\n",
       "      <th>998</th>\n",
       "      <td>998</td>\n",
       "      <td>BUL</td>\n",
       "      <td>Gabriel Donev</td>\n",
       "      <td>20</td>\n",
       "      <td>13</td>\n",
       "      <td>76.769231</td>\n",
       "    </tr>\n",
       "    <tr>\n",
       "      <th>999</th>\n",
       "      <td>999</td>\n",
       "      <td>USA</td>\n",
       "      <td>Patrick Daciek</td>\n",
       "      <td>26</td>\n",
       "      <td>14</td>\n",
       "      <td>71.357143</td>\n",
       "    </tr>\n",
       "    <tr>\n",
       "      <th>1000</th>\n",
       "      <td>1000</td>\n",
       "      <td>AUS</td>\n",
       "      <td>Darren K. Polkinghorne</td>\n",
       "      <td>23</td>\n",
       "      <td>14</td>\n",
       "      <td>71.428571</td>\n",
       "    </tr>\n",
       "  </tbody>\n",
       "</table>\n",
       "<p>1000 rows × 6 columns</p>\n",
       "</div>"
      ],
      "text/plain": [
       "      Ranking Drzava                        Ime  Starost  Turnirji  \\\n",
       "id                                                                   \n",
       "1           1    GBR                Andy Murray       29        16   \n",
       "2           2    SRB             Novak Djokovic       29        17   \n",
       "3           3    CAN               Milos Raonic       26        19   \n",
       "4           4    SUI              Stan Wawrinka       31        21   \n",
       "5           5    JPN              Kei Nishikori       27        20   \n",
       "6           6    CRO                Marin Cilic       28        22   \n",
       "7           7    FRA               Gael Monfils       30        18   \n",
       "...       ...    ...                        ...      ...       ...   \n",
       "994       994    ESP  Ricardo Villacorta-Alonso       31        11   \n",
       "995       995    FRA                Ugo Humbert       18        11   \n",
       "996       996    USA  Mitchell Thomas Mcdaniels       24        12   \n",
       "997       997    ITA             Pietro Rondoni       23        12   \n",
       "998       998    BUL              Gabriel Donev       20        13   \n",
       "999       999    USA             Patrick Daciek       26        14   \n",
       "1000     1000    AUS     Darren K. Polkinghorne       23        14   \n",
       "\n",
       "      uvrstitev : turnirji  \n",
       "id                          \n",
       "1                 0.062500  \n",
       "2                 0.117647  \n",
       "3                 0.157895  \n",
       "4                 0.190476  \n",
       "5                 0.250000  \n",
       "6                 0.272727  \n",
       "7                 0.388889  \n",
       "...                    ...  \n",
       "994              90.363636  \n",
       "995              90.454545  \n",
       "996              83.000000  \n",
       "997              83.083333  \n",
       "998              76.769231  \n",
       "999              71.357143  \n",
       "1000             71.428571  \n",
       "\n",
       "[1000 rows x 6 columns]"
      ]
     },
     "execution_count": 46,
     "metadata": {},
     "output_type": "execute_result"
    }
   ],
   "source": [
    "lestvica"
   ]
  },
  {
   "cell_type": "markdown",
   "metadata": {},
   "source": [
    "Med prvimi desetimi igralci je torej najbolj učinkovit prav vodilni Andy Murray."
   ]
  },
  {
   "cell_type": "markdown",
   "metadata": {},
   "source": [
    "## Uporaba podatkov v tabeli"
   ]
  },
  {
   "cell_type": "markdown",
   "metadata": {},
   "source": [
    "Za konec zapišimo še funkcijo, ki nam bo med tisočimi vrsticami v tabeli pomagala poiskati vrednosti, ki nas zanimajo:"
   ]
  },
  {
   "cell_type": "code",
   "execution_count": 62,
   "metadata": {
    "collapsed": false
   },
   "outputs": [],
   "source": [
    "def poisci_igralca(df, stolpec, vrednost):\n",
    "    return df.loc[df[stolpec] == vrednost]"
   ]
  },
  {
   "cell_type": "markdown",
   "metadata": {},
   "source": [
    "Pa poglejmo, če je kateri izmed slovenskih tenisačev uvrščen med prvih 100 najboljših na ATP lestvici:"
   ]
  },
  {
   "cell_type": "code",
   "execution_count": 63,
   "metadata": {
    "collapsed": false
   },
   "outputs": [
    {
     "data": {
      "text/html": [
       "<div>\n",
       "<table border=\"1\" class=\"dataframe\">\n",
       "  <thead>\n",
       "    <tr style=\"text-align: right;\">\n",
       "      <th></th>\n",
       "      <th>Ranking</th>\n",
       "      <th>Drzava</th>\n",
       "      <th>Ime</th>\n",
       "      <th>Starost</th>\n",
       "      <th>Turnirji</th>\n",
       "      <th>uvrstitev : turnirji</th>\n",
       "    </tr>\n",
       "    <tr>\n",
       "      <th>id</th>\n",
       "      <th></th>\n",
       "      <th></th>\n",
       "      <th></th>\n",
       "      <th></th>\n",
       "      <th></th>\n",
       "      <th></th>\n",
       "    </tr>\n",
       "  </thead>\n",
       "  <tbody>\n",
       "  </tbody>\n",
       "</table>\n",
       "</div>"
      ],
      "text/plain": [
       "Empty DataFrame\n",
       "Columns: [Ranking, Drzava, Ime, Starost, Turnirji, uvrstitev : turnirji]\n",
       "Index: []"
      ]
     },
     "execution_count": 63,
     "metadata": {},
     "output_type": "execute_result"
    }
   ],
   "source": [
    "poisci_igralca(lestvica.head(100), \"Drzava\", \"SLO\")"
   ]
  },
  {
   "cell_type": "markdown",
   "metadata": {},
   "source": [
    "Žal ne, lahko pa si pogledamo na katerih mestih *se* nahajajo naši igralci:"
   ]
  },
  {
   "cell_type": "code",
   "execution_count": 64,
   "metadata": {
    "collapsed": false
   },
   "outputs": [
    {
     "data": {
      "text/html": [
       "<div>\n",
       "<table border=\"1\" class=\"dataframe\">\n",
       "  <thead>\n",
       "    <tr style=\"text-align: right;\">\n",
       "      <th></th>\n",
       "      <th>Ranking</th>\n",
       "      <th>Drzava</th>\n",
       "      <th>Ime</th>\n",
       "      <th>Starost</th>\n",
       "      <th>Turnirji</th>\n",
       "      <th>uvrstitev : turnirji</th>\n",
       "    </tr>\n",
       "    <tr>\n",
       "      <th>id</th>\n",
       "      <th></th>\n",
       "      <th></th>\n",
       "      <th></th>\n",
       "      <th></th>\n",
       "      <th></th>\n",
       "      <th></th>\n",
       "    </tr>\n",
       "  </thead>\n",
       "  <tbody>\n",
       "    <tr>\n",
       "      <th>155</th>\n",
       "      <td>155</td>\n",
       "      <td>SLO</td>\n",
       "      <td>Grega Zemlja</td>\n",
       "      <td>30</td>\n",
       "      <td>27</td>\n",
       "      <td>5.740741</td>\n",
       "    </tr>\n",
       "    <tr>\n",
       "      <th>217</th>\n",
       "      <td>217</td>\n",
       "      <td>SLO</td>\n",
       "      <td>Blaz Kavcic</td>\n",
       "      <td>29</td>\n",
       "      <td>15</td>\n",
       "      <td>14.466667</td>\n",
       "    </tr>\n",
       "    <tr>\n",
       "      <th>255</th>\n",
       "      <td>255</td>\n",
       "      <td>SLO</td>\n",
       "      <td>Blaz Rola</td>\n",
       "      <td>26</td>\n",
       "      <td>23</td>\n",
       "      <td>11.086957</td>\n",
       "    </tr>\n",
       "    <tr>\n",
       "      <th>795</th>\n",
       "      <td>795</td>\n",
       "      <td>SLO</td>\n",
       "      <td>Tomislav Ternar</td>\n",
       "      <td>26</td>\n",
       "      <td>17</td>\n",
       "      <td>46.764706</td>\n",
       "    </tr>\n",
       "    <tr>\n",
       "      <th>818</th>\n",
       "      <td>818</td>\n",
       "      <td>SLO</td>\n",
       "      <td>Mike Urbanija</td>\n",
       "      <td>27</td>\n",
       "      <td>14</td>\n",
       "      <td>58.428571</td>\n",
       "    </tr>\n",
       "    <tr>\n",
       "      <th>828</th>\n",
       "      <td>828</td>\n",
       "      <td>SLO</td>\n",
       "      <td>Nik Razborsek</td>\n",
       "      <td>23</td>\n",
       "      <td>16</td>\n",
       "      <td>51.750000</td>\n",
       "    </tr>\n",
       "    <tr>\n",
       "      <th>879</th>\n",
       "      <td>879</td>\n",
       "      <td>SLO</td>\n",
       "      <td>Tom Kocevar-Desman</td>\n",
       "      <td>26</td>\n",
       "      <td>16</td>\n",
       "      <td>54.937500</td>\n",
       "    </tr>\n",
       "  </tbody>\n",
       "</table>\n",
       "</div>"
      ],
      "text/plain": [
       "     Ranking Drzava                 Ime  Starost  Turnirji  \\\n",
       "id                                                           \n",
       "155      155    SLO        Grega Zemlja       30        27   \n",
       "217      217    SLO         Blaz Kavcic       29        15   \n",
       "255      255    SLO           Blaz Rola       26        23   \n",
       "795      795    SLO     Tomislav Ternar       26        17   \n",
       "818      818    SLO       Mike Urbanija       27        14   \n",
       "828      828    SLO       Nik Razborsek       23        16   \n",
       "879      879    SLO  Tom Kocevar-Desman       26        16   \n",
       "\n",
       "     uvrstitev : turnirji  \n",
       "id                         \n",
       "155              5.740741  \n",
       "217             14.466667  \n",
       "255             11.086957  \n",
       "795             46.764706  \n",
       "818             58.428571  \n",
       "828             51.750000  \n",
       "879             54.937500  "
      ]
     },
     "execution_count": 64,
     "metadata": {},
     "output_type": "execute_result"
    }
   ],
   "source": [
    "poisci_igralca(lestvica, \"Drzava\", \"SLO\")"
   ]
  },
  {
   "cell_type": "code",
   "execution_count": null,
   "metadata": {
    "collapsed": true
   },
   "outputs": [],
   "source": []
  }
 ],
 "metadata": {
  "anaconda-cloud": {},
  "kernelspec": {
   "display_name": "Python [conda root]",
   "language": "python",
   "name": "conda-root-py"
  }
 },
 "nbformat": 4,
 "nbformat_minor": 1
}
